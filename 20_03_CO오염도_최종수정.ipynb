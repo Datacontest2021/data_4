{
 "cells": [
  {
   "cell_type": "code",
   "execution_count": 1,
   "id": "12c56416",
   "metadata": {},
   "outputs": [],
   "source": [
    "import pandas as pd\n",
    "\n",
    "pd.options.display.float_format = '{:.5f}'.format #e 나오는거 싫어서 바꿈\n",
    "\n",
    "df = pd.read_excel('../2020/20년도_3월_CO오염도.xlsx')\n",
    "df = df.drop([0,2,3])\n",
    "df = df.iloc[:, 0:9]\n",
    "df = df.rename(columns=df.iloc[0])\n",
    "df = df.drop([1])\n",
    "df['월평균\\n(ppm)'] = df['월평균\\n(ppm)'].str.replace(pat=r'[*]', repl= r' ', regex=True)\n",
    "df_seoul = df[df['시.도'] == '서울']\n",
    "df_gg = df[df['시.도'] == '경기']\n",
    "df_incheon = df[df['시.도'] == '인천']\n",
    "df_daegu = df[df['시.도'] == '대구']\n",
    "df_jeju = df[df['시.도'] == '제주']"
   ]
  },
  {
   "cell_type": "code",
   "execution_count": 2,
   "id": "492142dc",
   "metadata": {},
   "outputs": [
    {
     "name": "stdout",
     "output_type": "stream",
     "text": [
      "0.49199999999999994\n"
     ]
    },
    {
     "data": {
      "text/html": [
       "<div>\n",
       "<style scoped>\n",
       "    .dataframe tbody tr th:only-of-type {\n",
       "        vertical-align: middle;\n",
       "    }\n",
       "\n",
       "    .dataframe tbody tr th {\n",
       "        vertical-align: top;\n",
       "    }\n",
       "\n",
       "    .dataframe thead th {\n",
       "        text-align: right;\n",
       "    }\n",
       "</style>\n",
       "<table border=\"1\" class=\"dataframe\">\n",
       "  <thead>\n",
       "    <tr style=\"text-align: right;\">\n",
       "      <th></th>\n",
       "      <th>시.도</th>\n",
       "      <th>월평균\\n(ppm)</th>\n",
       "    </tr>\n",
       "  </thead>\n",
       "  <tbody>\n",
       "    <tr>\n",
       "      <th>0</th>\n",
       "      <td>서울</td>\n",
       "      <td>0.49200</td>\n",
       "    </tr>\n",
       "  </tbody>\n",
       "</table>\n",
       "</div>"
      ],
      "text/plain": [
       "  시.도  월평균\\n(ppm)\n",
       "0  서울     0.49200"
      ]
     },
     "execution_count": 2,
     "metadata": {},
     "output_type": "execute_result"
    }
   ],
   "source": [
    "df_seoul\n",
    "df_seoul_a = df_seoul['월평균\\n(ppm)'].astype(float)\n",
    "df_seoul_mean = df_seoul_a.mean()\n",
    "print(df_seoul_mean)\n",
    "data = [{'시.도' :'서울', '월평균\\n(ppm)' : df_seoul_mean}]\n",
    "df_seoul_mean_data = pd.DataFrame(data)\n",
    "df_seoul_mean_data"
   ]
  },
  {
   "cell_type": "code",
   "execution_count": 3,
   "id": "fc72b4b5",
   "metadata": {},
   "outputs": [
    {
     "name": "stdout",
     "output_type": "stream",
     "text": [
      "0.4537634408602147\n"
     ]
    },
    {
     "data": {
      "text/html": [
       "<div>\n",
       "<style scoped>\n",
       "    .dataframe tbody tr th:only-of-type {\n",
       "        vertical-align: middle;\n",
       "    }\n",
       "\n",
       "    .dataframe tbody tr th {\n",
       "        vertical-align: top;\n",
       "    }\n",
       "\n",
       "    .dataframe thead th {\n",
       "        text-align: right;\n",
       "    }\n",
       "</style>\n",
       "<table border=\"1\" class=\"dataframe\">\n",
       "  <thead>\n",
       "    <tr style=\"text-align: right;\">\n",
       "      <th></th>\n",
       "      <th>시.도</th>\n",
       "      <th>월평균\\n(ppm)</th>\n",
       "    </tr>\n",
       "  </thead>\n",
       "  <tbody>\n",
       "    <tr>\n",
       "      <th>0</th>\n",
       "      <td>경기</td>\n",
       "      <td>0.45376</td>\n",
       "    </tr>\n",
       "  </tbody>\n",
       "</table>\n",
       "</div>"
      ],
      "text/plain": [
       "  시.도  월평균\\n(ppm)\n",
       "0  경기     0.45376"
      ]
     },
     "execution_count": 3,
     "metadata": {},
     "output_type": "execute_result"
    }
   ],
   "source": [
    "df_gg_a = df_gg['월평균\\n(ppm)'].astype(float)\n",
    "df_gg_mean = df_gg_a.mean()\n",
    "print(df_gg_mean)\n",
    "data = [{'시.도' :'경기', '월평균\\n(ppm)' : df_gg_mean}]\n",
    "df_gg_mean_data = pd.DataFrame(data)\n",
    "df_gg_mean_data"
   ]
  },
  {
   "cell_type": "code",
   "execution_count": 4,
   "id": "ef2a754a",
   "metadata": {},
   "outputs": [
    {
     "name": "stdout",
     "output_type": "stream",
     "text": [
      "0.55\n"
     ]
    },
    {
     "data": {
      "text/html": [
       "<div>\n",
       "<style scoped>\n",
       "    .dataframe tbody tr th:only-of-type {\n",
       "        vertical-align: middle;\n",
       "    }\n",
       "\n",
       "    .dataframe tbody tr th {\n",
       "        vertical-align: top;\n",
       "    }\n",
       "\n",
       "    .dataframe thead th {\n",
       "        text-align: right;\n",
       "    }\n",
       "</style>\n",
       "<table border=\"1\" class=\"dataframe\">\n",
       "  <thead>\n",
       "    <tr style=\"text-align: right;\">\n",
       "      <th></th>\n",
       "      <th>시.도</th>\n",
       "      <th>월평균\\n(ppm)</th>\n",
       "    </tr>\n",
       "  </thead>\n",
       "  <tbody>\n",
       "    <tr>\n",
       "      <th>0</th>\n",
       "      <td>인천</td>\n",
       "      <td>0.55000</td>\n",
       "    </tr>\n",
       "  </tbody>\n",
       "</table>\n",
       "</div>"
      ],
      "text/plain": [
       "  시.도  월평균\\n(ppm)\n",
       "0  인천     0.55000"
      ]
     },
     "execution_count": 4,
     "metadata": {},
     "output_type": "execute_result"
    }
   ],
   "source": [
    "df_incheon_a = df_incheon['월평균\\n(ppm)'].astype(float)\n",
    "df_incheon_mean = df_incheon_a.mean()\n",
    "print(df_incheon_mean)\n",
    "data = [{'시.도' :'인천', '월평균\\n(ppm)' : df_incheon_mean}]\n",
    "df_incheon_mean_data = pd.DataFrame(data)\n",
    "df_incheon_mean_data"
   ]
  },
  {
   "cell_type": "code",
   "execution_count": 5,
   "id": "f5615cbe",
   "metadata": {},
   "outputs": [
    {
     "name": "stdout",
     "output_type": "stream",
     "text": [
      "0.4266666666666667\n"
     ]
    },
    {
     "data": {
      "text/html": [
       "<div>\n",
       "<style scoped>\n",
       "    .dataframe tbody tr th:only-of-type {\n",
       "        vertical-align: middle;\n",
       "    }\n",
       "\n",
       "    .dataframe tbody tr th {\n",
       "        vertical-align: top;\n",
       "    }\n",
       "\n",
       "    .dataframe thead th {\n",
       "        text-align: right;\n",
       "    }\n",
       "</style>\n",
       "<table border=\"1\" class=\"dataframe\">\n",
       "  <thead>\n",
       "    <tr style=\"text-align: right;\">\n",
       "      <th></th>\n",
       "      <th>시.도</th>\n",
       "      <th>월평균\\n(ppm)</th>\n",
       "    </tr>\n",
       "  </thead>\n",
       "  <tbody>\n",
       "    <tr>\n",
       "      <th>0</th>\n",
       "      <td>대구</td>\n",
       "      <td>0.42667</td>\n",
       "    </tr>\n",
       "  </tbody>\n",
       "</table>\n",
       "</div>"
      ],
      "text/plain": [
       "  시.도  월평균\\n(ppm)\n",
       "0  대구     0.42667"
      ]
     },
     "execution_count": 5,
     "metadata": {},
     "output_type": "execute_result"
    }
   ],
   "source": [
    "df_daegu_a = df_daegu['월평균\\n(ppm)'].astype(float)\n",
    "df_daegu_mean = df_daegu_a.mean()\n",
    "print(df_daegu_mean)\n",
    "data = [{'시.도' :'대구', '월평균\\n(ppm)' : df_daegu_mean}]\n",
    "df_daegu_mean_data = pd.DataFrame(data)\n",
    "df_daegu_mean_data"
   ]
  },
  {
   "cell_type": "code",
   "execution_count": 6,
   "id": "8fd4d8d8",
   "metadata": {},
   "outputs": [
    {
     "name": "stdout",
     "output_type": "stream",
     "text": [
      "0.3\n"
     ]
    },
    {
     "data": {
      "text/html": [
       "<div>\n",
       "<style scoped>\n",
       "    .dataframe tbody tr th:only-of-type {\n",
       "        vertical-align: middle;\n",
       "    }\n",
       "\n",
       "    .dataframe tbody tr th {\n",
       "        vertical-align: top;\n",
       "    }\n",
       "\n",
       "    .dataframe thead th {\n",
       "        text-align: right;\n",
       "    }\n",
       "</style>\n",
       "<table border=\"1\" class=\"dataframe\">\n",
       "  <thead>\n",
       "    <tr style=\"text-align: right;\">\n",
       "      <th></th>\n",
       "      <th>시.도</th>\n",
       "      <th>월평균\\n(ppm)</th>\n",
       "    </tr>\n",
       "  </thead>\n",
       "  <tbody>\n",
       "    <tr>\n",
       "      <th>0</th>\n",
       "      <td>제주</td>\n",
       "      <td>0.30000</td>\n",
       "    </tr>\n",
       "  </tbody>\n",
       "</table>\n",
       "</div>"
      ],
      "text/plain": [
       "  시.도  월평균\\n(ppm)\n",
       "0  제주     0.30000"
      ]
     },
     "execution_count": 6,
     "metadata": {},
     "output_type": "execute_result"
    }
   ],
   "source": [
    "df_jeju_a = df_jeju['월평균\\n(ppm)'].astype(float)\n",
    "df_jeju_mean = df_jeju_a.mean()\n",
    "print(df_jeju_mean)\n",
    "data = [{'시.도' :'제주', '월평균\\n(ppm)' : df_jeju_mean}]\n",
    "df_jeju_mean_data = pd.DataFrame(data)\n",
    "df_jeju_mean_data"
   ]
  },
  {
   "cell_type": "code",
   "execution_count": 7,
   "id": "0b0ab762",
   "metadata": {},
   "outputs": [
    {
     "data": {
      "text/html": [
       "<div>\n",
       "<style scoped>\n",
       "    .dataframe tbody tr th:only-of-type {\n",
       "        vertical-align: middle;\n",
       "    }\n",
       "\n",
       "    .dataframe tbody tr th {\n",
       "        vertical-align: top;\n",
       "    }\n",
       "\n",
       "    .dataframe thead th {\n",
       "        text-align: right;\n",
       "    }\n",
       "</style>\n",
       "<table border=\"1\" class=\"dataframe\">\n",
       "  <thead>\n",
       "    <tr style=\"text-align: right;\">\n",
       "      <th></th>\n",
       "      <th>시.도</th>\n",
       "      <th>월평균\\n(ppm)</th>\n",
       "    </tr>\n",
       "  </thead>\n",
       "  <tbody>\n",
       "    <tr>\n",
       "      <th>0</th>\n",
       "      <td>서울</td>\n",
       "      <td>0.49200</td>\n",
       "    </tr>\n",
       "    <tr>\n",
       "      <th>1</th>\n",
       "      <td>경기</td>\n",
       "      <td>0.45376</td>\n",
       "    </tr>\n",
       "    <tr>\n",
       "      <th>2</th>\n",
       "      <td>인천</td>\n",
       "      <td>0.55000</td>\n",
       "    </tr>\n",
       "    <tr>\n",
       "      <th>3</th>\n",
       "      <td>대구</td>\n",
       "      <td>0.42667</td>\n",
       "    </tr>\n",
       "    <tr>\n",
       "      <th>4</th>\n",
       "      <td>제주</td>\n",
       "      <td>0.30000</td>\n",
       "    </tr>\n",
       "  </tbody>\n",
       "</table>\n",
       "</div>"
      ],
      "text/plain": [
       "  시.도  월평균\\n(ppm)\n",
       "0  서울     0.49200\n",
       "1  경기     0.45376\n",
       "2  인천     0.55000\n",
       "3  대구     0.42667\n",
       "4  제주     0.30000"
      ]
     },
     "execution_count": 7,
     "metadata": {},
     "output_type": "execute_result"
    }
   ],
   "source": [
    "df_crop = pd.concat([df_seoul_mean_data, df_gg_mean_data, df_incheon_mean_data, df_daegu_mean_data, df_jeju_mean_data], ignore_index = True)\n",
    "df_crop"
   ]
  },
  {
   "cell_type": "code",
   "execution_count": 8,
   "id": "f0411ec0",
   "metadata": {},
   "outputs": [],
   "source": [
    "df_crop.to_csv(\"20년도_3월_CO오염도_최종.csv\")"
   ]
  },
  {
   "cell_type": "code",
   "execution_count": null,
   "id": "cacc7fb3",
   "metadata": {},
   "outputs": [],
   "source": []
  }
 ],
 "metadata": {
  "kernelspec": {
   "display_name": "Python 3",
   "language": "python",
   "name": "python3"
  },
  "language_info": {
   "codemirror_mode": {
    "name": "ipython",
    "version": 3
   },
   "file_extension": ".py",
   "mimetype": "text/x-python",
   "name": "python",
   "nbconvert_exporter": "python",
   "pygments_lexer": "ipython3",
   "version": "3.8.10"
  }
 },
 "nbformat": 4,
 "nbformat_minor": 5
}
